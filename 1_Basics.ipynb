{
 "cells": [
  {
   "cell_type": "markdown",
   "metadata": {},
   "source": [
    "# Keras Basics"
   ]
  },
  {
   "cell_type": "code",
   "execution_count": 47,
   "metadata": {},
   "outputs": [],
   "source": [
    "import numpy as np\n",
    "import pandas as pd\n",
    "import matplotlib.pyplot as plt\n",
    "import keras\n",
    "from sklearn import metrics as sk_metrics\n",
    "from sklearn import linear_model as sk_lm\n",
    "from sklearn import model_selection as sk_msel\n",
    "from sklearn import discriminant_analysis as sk_lda"
   ]
  },
  {
   "cell_type": "markdown",
   "metadata": {},
   "source": [
    "### Regression with Keras Neural Network"
   ]
  },
  {
   "cell_type": "code",
   "execution_count": 9,
   "metadata": {},
   "outputs": [
    {
     "name": "stderr",
     "output_type": "stream",
     "text": [
      "  % Total    % Received % Xferd  Average Speed   Time    Time     Time  Current\n",
      "                                 Dload  Upload   Total   Spent    Left  Speed\n",
      "100 58988  100 58988    0     0  41984      0  0:00:01  0:00:01 --:--:-- 41954\n"
     ]
    }
   ],
   "source": [
    "%%bash\n",
    "curl -O 'https://s3-api.us-geo.objectstorage.softlayer.net/cf-courses-data/CognitiveClass/DL0101EN/labs/data/concrete_data.csv'"
   ]
  },
  {
   "cell_type": "code",
   "execution_count": 86,
   "metadata": {},
   "outputs": [
    {
     "data": {
      "text/html": [
       "<div>\n",
       "<style scoped>\n",
       "    .dataframe tbody tr th:only-of-type {\n",
       "        vertical-align: middle;\n",
       "    }\n",
       "\n",
       "    .dataframe tbody tr th {\n",
       "        vertical-align: top;\n",
       "    }\n",
       "\n",
       "    .dataframe thead th {\n",
       "        text-align: right;\n",
       "    }\n",
       "</style>\n",
       "<table border=\"1\" class=\"dataframe\">\n",
       "  <thead>\n",
       "    <tr style=\"text-align: right;\">\n",
       "      <th></th>\n",
       "      <th>Cement</th>\n",
       "      <th>Blast Furnace Slag</th>\n",
       "      <th>Fly Ash</th>\n",
       "      <th>Water</th>\n",
       "      <th>Superplasticizer</th>\n",
       "      <th>Coarse Aggregate</th>\n",
       "      <th>Fine Aggregate</th>\n",
       "      <th>Age</th>\n",
       "      <th>Strength</th>\n",
       "    </tr>\n",
       "  </thead>\n",
       "  <tbody>\n",
       "    <tr>\n",
       "      <th>0</th>\n",
       "      <td>540.0</td>\n",
       "      <td>0.0</td>\n",
       "      <td>0.0</td>\n",
       "      <td>162.0</td>\n",
       "      <td>2.5</td>\n",
       "      <td>1040.0</td>\n",
       "      <td>676.0</td>\n",
       "      <td>28</td>\n",
       "      <td>79.99</td>\n",
       "    </tr>\n",
       "    <tr>\n",
       "      <th>1</th>\n",
       "      <td>540.0</td>\n",
       "      <td>0.0</td>\n",
       "      <td>0.0</td>\n",
       "      <td>162.0</td>\n",
       "      <td>2.5</td>\n",
       "      <td>1055.0</td>\n",
       "      <td>676.0</td>\n",
       "      <td>28</td>\n",
       "      <td>61.89</td>\n",
       "    </tr>\n",
       "    <tr>\n",
       "      <th>2</th>\n",
       "      <td>332.5</td>\n",
       "      <td>142.5</td>\n",
       "      <td>0.0</td>\n",
       "      <td>228.0</td>\n",
       "      <td>0.0</td>\n",
       "      <td>932.0</td>\n",
       "      <td>594.0</td>\n",
       "      <td>270</td>\n",
       "      <td>40.27</td>\n",
       "    </tr>\n",
       "    <tr>\n",
       "      <th>3</th>\n",
       "      <td>332.5</td>\n",
       "      <td>142.5</td>\n",
       "      <td>0.0</td>\n",
       "      <td>228.0</td>\n",
       "      <td>0.0</td>\n",
       "      <td>932.0</td>\n",
       "      <td>594.0</td>\n",
       "      <td>365</td>\n",
       "      <td>41.05</td>\n",
       "    </tr>\n",
       "    <tr>\n",
       "      <th>4</th>\n",
       "      <td>198.6</td>\n",
       "      <td>132.4</td>\n",
       "      <td>0.0</td>\n",
       "      <td>192.0</td>\n",
       "      <td>0.0</td>\n",
       "      <td>978.4</td>\n",
       "      <td>825.5</td>\n",
       "      <td>360</td>\n",
       "      <td>44.30</td>\n",
       "    </tr>\n",
       "  </tbody>\n",
       "</table>\n",
       "</div>"
      ],
      "text/plain": [
       "   Cement  Blast Furnace Slag  Fly Ash  Water  Superplasticizer  \\\n",
       "0   540.0                 0.0      0.0  162.0               2.5   \n",
       "1   540.0                 0.0      0.0  162.0               2.5   \n",
       "2   332.5               142.5      0.0  228.0               0.0   \n",
       "3   332.5               142.5      0.0  228.0               0.0   \n",
       "4   198.6               132.4      0.0  192.0               0.0   \n",
       "\n",
       "   Coarse Aggregate  Fine Aggregate  Age  Strength  \n",
       "0            1040.0           676.0   28     79.99  \n",
       "1            1055.0           676.0   28     61.89  \n",
       "2             932.0           594.0  270     40.27  \n",
       "3             932.0           594.0  365     41.05  \n",
       "4             978.4           825.5  360     44.30  "
      ]
     },
     "execution_count": 86,
     "metadata": {},
     "output_type": "execute_result"
    }
   ],
   "source": [
    "# Test Data\n",
    "concrete_data = pd.read_csv('concrete_data.csv')\n",
    "concrete_data.head()"
   ]
  },
  {
   "cell_type": "code",
   "execution_count": 87,
   "metadata": {},
   "outputs": [
    {
     "data": {
      "text/plain": [
       "(1030, 9)"
      ]
     },
     "execution_count": 87,
     "metadata": {},
     "output_type": "execute_result"
    }
   ],
   "source": [
    "concrete_data.shape"
   ]
  },
  {
   "cell_type": "code",
   "execution_count": 88,
   "metadata": {},
   "outputs": [
    {
     "data": {
      "text/plain": [
       "Cement                0\n",
       "Blast Furnace Slag    0\n",
       "Fly Ash               0\n",
       "Water                 0\n",
       "Superplasticizer      0\n",
       "Coarse Aggregate      0\n",
       "Fine Aggregate        0\n",
       "Age                   0\n",
       "Strength              0\n",
       "dtype: int64"
      ]
     },
     "execution_count": 88,
     "metadata": {},
     "output_type": "execute_result"
    }
   ],
   "source": [
    "# Check for null values\n",
    "concrete_data.isnull().sum()"
   ]
  },
  {
   "cell_type": "code",
   "execution_count": 89,
   "metadata": {},
   "outputs": [
    {
     "data": {
      "text/html": [
       "<div>\n",
       "<style scoped>\n",
       "    .dataframe tbody tr th:only-of-type {\n",
       "        vertical-align: middle;\n",
       "    }\n",
       "\n",
       "    .dataframe tbody tr th {\n",
       "        vertical-align: top;\n",
       "    }\n",
       "\n",
       "    .dataframe thead th {\n",
       "        text-align: right;\n",
       "    }\n",
       "</style>\n",
       "<table border=\"1\" class=\"dataframe\">\n",
       "  <thead>\n",
       "    <tr style=\"text-align: right;\">\n",
       "      <th></th>\n",
       "      <th>Cement</th>\n",
       "      <th>Blast Furnace Slag</th>\n",
       "      <th>Fly Ash</th>\n",
       "      <th>Water</th>\n",
       "      <th>Superplasticizer</th>\n",
       "      <th>Coarse Aggregate</th>\n",
       "      <th>Fine Aggregate</th>\n",
       "      <th>Age</th>\n",
       "    </tr>\n",
       "  </thead>\n",
       "  <tbody>\n",
       "    <tr>\n",
       "      <th>0</th>\n",
       "      <td>540.0</td>\n",
       "      <td>0.0</td>\n",
       "      <td>0.0</td>\n",
       "      <td>162.0</td>\n",
       "      <td>2.5</td>\n",
       "      <td>1040.0</td>\n",
       "      <td>676.0</td>\n",
       "      <td>28</td>\n",
       "    </tr>\n",
       "    <tr>\n",
       "      <th>1</th>\n",
       "      <td>540.0</td>\n",
       "      <td>0.0</td>\n",
       "      <td>0.0</td>\n",
       "      <td>162.0</td>\n",
       "      <td>2.5</td>\n",
       "      <td>1055.0</td>\n",
       "      <td>676.0</td>\n",
       "      <td>28</td>\n",
       "    </tr>\n",
       "    <tr>\n",
       "      <th>2</th>\n",
       "      <td>332.5</td>\n",
       "      <td>142.5</td>\n",
       "      <td>0.0</td>\n",
       "      <td>228.0</td>\n",
       "      <td>0.0</td>\n",
       "      <td>932.0</td>\n",
       "      <td>594.0</td>\n",
       "      <td>270</td>\n",
       "    </tr>\n",
       "    <tr>\n",
       "      <th>3</th>\n",
       "      <td>332.5</td>\n",
       "      <td>142.5</td>\n",
       "      <td>0.0</td>\n",
       "      <td>228.0</td>\n",
       "      <td>0.0</td>\n",
       "      <td>932.0</td>\n",
       "      <td>594.0</td>\n",
       "      <td>365</td>\n",
       "    </tr>\n",
       "    <tr>\n",
       "      <th>4</th>\n",
       "      <td>198.6</td>\n",
       "      <td>132.4</td>\n",
       "      <td>0.0</td>\n",
       "      <td>192.0</td>\n",
       "      <td>0.0</td>\n",
       "      <td>978.4</td>\n",
       "      <td>825.5</td>\n",
       "      <td>360</td>\n",
       "    </tr>\n",
       "  </tbody>\n",
       "</table>\n",
       "</div>"
      ],
      "text/plain": [
       "   Cement  Blast Furnace Slag  Fly Ash  Water  Superplasticizer  \\\n",
       "0   540.0                 0.0      0.0  162.0               2.5   \n",
       "1   540.0                 0.0      0.0  162.0               2.5   \n",
       "2   332.5               142.5      0.0  228.0               0.0   \n",
       "3   332.5               142.5      0.0  228.0               0.0   \n",
       "4   198.6               132.4      0.0  192.0               0.0   \n",
       "\n",
       "   Coarse Aggregate  Fine Aggregate  Age  \n",
       "0            1040.0           676.0   28  \n",
       "1            1055.0           676.0   28  \n",
       "2             932.0           594.0  270  \n",
       "3             932.0           594.0  365  \n",
       "4             978.4           825.5  360  "
      ]
     },
     "execution_count": 89,
     "metadata": {},
     "output_type": "execute_result"
    }
   ],
   "source": [
    "# Split in predictors and target dataframes\n",
    "predictors=concrete_data.drop(columns=['Strength'])\n",
    "predictors.head()"
   ]
  },
  {
   "cell_type": "code",
   "execution_count": 90,
   "metadata": {},
   "outputs": [
    {
     "data": {
      "text/plain": [
       "0    79.99\n",
       "1    61.89\n",
       "2    40.27\n",
       "3    41.05\n",
       "4    44.30\n",
       "Name: Strength, dtype: float64"
      ]
     },
     "execution_count": 90,
     "metadata": {},
     "output_type": "execute_result"
    }
   ],
   "source": [
    "target=concrete_data['Strength']\n",
    "target.head()"
   ]
  },
  {
   "cell_type": "code",
   "execution_count": 91,
   "metadata": {},
   "outputs": [
    {
     "data": {
      "text/plain": [
       "8"
      ]
     },
     "execution_count": 91,
     "metadata": {},
     "output_type": "execute_result"
    }
   ],
   "source": [
    "# Number of predictors\n",
    "n_predictors=len(predictors.columns)\n",
    "n_predictors"
   ]
  },
  {
   "cell_type": "code",
   "execution_count": 92,
   "metadata": {},
   "outputs": [
    {
     "data": {
      "text/html": [
       "<div>\n",
       "<style scoped>\n",
       "    .dataframe tbody tr th:only-of-type {\n",
       "        vertical-align: middle;\n",
       "    }\n",
       "\n",
       "    .dataframe tbody tr th {\n",
       "        vertical-align: top;\n",
       "    }\n",
       "\n",
       "    .dataframe thead th {\n",
       "        text-align: right;\n",
       "    }\n",
       "</style>\n",
       "<table border=\"1\" class=\"dataframe\">\n",
       "  <thead>\n",
       "    <tr style=\"text-align: right;\">\n",
       "      <th></th>\n",
       "      <th>Cement</th>\n",
       "      <th>Blast Furnace Slag</th>\n",
       "      <th>Fly Ash</th>\n",
       "      <th>Water</th>\n",
       "      <th>Superplasticizer</th>\n",
       "      <th>Coarse Aggregate</th>\n",
       "      <th>Fine Aggregate</th>\n",
       "      <th>Age</th>\n",
       "    </tr>\n",
       "  </thead>\n",
       "  <tbody>\n",
       "    <tr>\n",
       "      <th>0</th>\n",
       "      <td>2.476712</td>\n",
       "      <td>-0.856472</td>\n",
       "      <td>-0.846733</td>\n",
       "      <td>-0.916319</td>\n",
       "      <td>-0.620147</td>\n",
       "      <td>0.862735</td>\n",
       "      <td>-1.217079</td>\n",
       "      <td>-0.279597</td>\n",
       "    </tr>\n",
       "    <tr>\n",
       "      <th>1</th>\n",
       "      <td>2.476712</td>\n",
       "      <td>-0.856472</td>\n",
       "      <td>-0.846733</td>\n",
       "      <td>-0.916319</td>\n",
       "      <td>-0.620147</td>\n",
       "      <td>1.055651</td>\n",
       "      <td>-1.217079</td>\n",
       "      <td>-0.279597</td>\n",
       "    </tr>\n",
       "    <tr>\n",
       "      <th>2</th>\n",
       "      <td>0.491187</td>\n",
       "      <td>0.795140</td>\n",
       "      <td>-0.846733</td>\n",
       "      <td>2.174405</td>\n",
       "      <td>-1.038638</td>\n",
       "      <td>-0.526262</td>\n",
       "      <td>-2.239829</td>\n",
       "      <td>3.551340</td>\n",
       "    </tr>\n",
       "    <tr>\n",
       "      <th>3</th>\n",
       "      <td>0.491187</td>\n",
       "      <td>0.795140</td>\n",
       "      <td>-0.846733</td>\n",
       "      <td>2.174405</td>\n",
       "      <td>-1.038638</td>\n",
       "      <td>-0.526262</td>\n",
       "      <td>-2.239829</td>\n",
       "      <td>5.055221</td>\n",
       "    </tr>\n",
       "    <tr>\n",
       "      <th>4</th>\n",
       "      <td>-0.790075</td>\n",
       "      <td>0.678079</td>\n",
       "      <td>-0.846733</td>\n",
       "      <td>0.488555</td>\n",
       "      <td>-1.038638</td>\n",
       "      <td>0.070492</td>\n",
       "      <td>0.647569</td>\n",
       "      <td>4.976069</td>\n",
       "    </tr>\n",
       "  </tbody>\n",
       "</table>\n",
       "</div>"
      ],
      "text/plain": [
       "     Cement  Blast Furnace Slag   Fly Ash     Water  Superplasticizer  \\\n",
       "0  2.476712           -0.856472 -0.846733 -0.916319         -0.620147   \n",
       "1  2.476712           -0.856472 -0.846733 -0.916319         -0.620147   \n",
       "2  0.491187            0.795140 -0.846733  2.174405         -1.038638   \n",
       "3  0.491187            0.795140 -0.846733  2.174405         -1.038638   \n",
       "4 -0.790075            0.678079 -0.846733  0.488555         -1.038638   \n",
       "\n",
       "   Coarse Aggregate  Fine Aggregate       Age  \n",
       "0          0.862735       -1.217079 -0.279597  \n",
       "1          1.055651       -1.217079 -0.279597  \n",
       "2         -0.526262       -2.239829  3.551340  \n",
       "3         -0.526262       -2.239829  5.055221  \n",
       "4          0.070492        0.647569  4.976069  "
      ]
     },
     "execution_count": 92,
     "metadata": {},
     "output_type": "execute_result"
    }
   ],
   "source": [
    "# normalize predictors\n",
    "predictors_norm = (predictors - predictors.mean()) / predictors.std()\n",
    "predictors_norm.head()"
   ]
  },
  {
   "cell_type": "code",
   "execution_count": 93,
   "metadata": {},
   "outputs": [],
   "source": [
    "# Build the neural network\n",
    "model=keras.models.Sequential()\n",
    "model.add(keras.layers.Dense(50, activation='relu', input_shape=(n_predictors,)))\n",
    "model.add(keras.layers.Dense(50, activation='relu'))\n",
    "model.add(keras.layers.Dense(1))\n",
    "\n",
    "# Compile the model\n",
    "model.compile(optimizer='adam', loss='mean_squared_error')"
   ]
  },
  {
   "cell_type": "code",
   "execution_count": 94,
   "metadata": {},
   "outputs": [
    {
     "name": "stdout",
     "output_type": "stream",
     "text": [
      "Train on 721 samples, validate on 309 samples\n",
      "Epoch 1/100\n",
      " - 0s - loss: 1655.0032 - val_loss: 1156.2747\n",
      "Epoch 2/100\n",
      " - 0s - loss: 1595.6777 - val_loss: 1092.8382\n",
      "Epoch 3/100\n",
      " - 0s - loss: 1515.8289 - val_loss: 1011.2338\n",
      "Epoch 4/100\n",
      " - 0s - loss: 1407.8161 - val_loss: 905.3936\n",
      "Epoch 5/100\n",
      " - 0s - loss: 1261.6263 - val_loss: 772.3304\n",
      "Epoch 6/100\n",
      " - 0s - loss: 1075.5576 - val_loss: 623.9816\n",
      "Epoch 7/100\n",
      " - 0s - loss: 865.8644 - val_loss: 475.6044\n",
      "Epoch 8/100\n",
      " - 0s - loss: 658.2514 - val_loss: 351.5620\n",
      "Epoch 9/100\n",
      " - 0s - loss: 479.9514 - val_loss: 265.5301\n",
      "Epoch 10/100\n",
      " - 0s - loss: 351.9400 - val_loss: 218.6374\n",
      "Epoch 11/100\n",
      " - 0s - loss: 276.7954 - val_loss: 199.6293\n",
      "Epoch 12/100\n",
      " - 0s - loss: 240.8109 - val_loss: 193.8043\n",
      "Epoch 13/100\n",
      " - 0s - loss: 226.1077 - val_loss: 189.9992\n",
      "Epoch 14/100\n",
      " - 0s - loss: 218.4278 - val_loss: 187.7835\n",
      "Epoch 15/100\n",
      " - 0s - loss: 213.1976 - val_loss: 183.0700\n",
      "Epoch 16/100\n",
      " - 0s - loss: 208.2683 - val_loss: 180.2220\n",
      "Epoch 17/100\n",
      " - 0s - loss: 204.0032 - val_loss: 178.6731\n",
      "Epoch 18/100\n",
      " - 0s - loss: 200.4043 - val_loss: 175.8090\n",
      "Epoch 19/100\n",
      " - 0s - loss: 196.9437 - val_loss: 173.6815\n",
      "Epoch 20/100\n",
      " - 0s - loss: 193.5971 - val_loss: 173.0660\n",
      "Epoch 21/100\n",
      " - 0s - loss: 190.9735 - val_loss: 172.6681\n",
      "Epoch 22/100\n",
      " - 0s - loss: 187.9782 - val_loss: 171.5388\n",
      "Epoch 23/100\n",
      " - 0s - loss: 185.6622 - val_loss: 171.7037\n",
      "Epoch 24/100\n",
      " - 0s - loss: 183.6253 - val_loss: 169.6589\n",
      "Epoch 25/100\n",
      " - 0s - loss: 181.3617 - val_loss: 170.1374\n",
      "Epoch 26/100\n",
      " - 0s - loss: 179.4116 - val_loss: 168.8875\n",
      "Epoch 27/100\n",
      " - 0s - loss: 177.2628 - val_loss: 168.3352\n",
      "Epoch 28/100\n",
      " - 0s - loss: 175.4395 - val_loss: 168.0211\n",
      "Epoch 29/100\n",
      " - 0s - loss: 173.8518 - val_loss: 168.8510\n",
      "Epoch 30/100\n",
      " - 0s - loss: 172.0451 - val_loss: 167.6054\n",
      "Epoch 31/100\n",
      " - 0s - loss: 170.6361 - val_loss: 166.4863\n",
      "Epoch 32/100\n",
      " - 0s - loss: 168.9338 - val_loss: 165.9301\n",
      "Epoch 33/100\n",
      " - 0s - loss: 167.0536 - val_loss: 165.5313\n",
      "Epoch 34/100\n",
      " - 0s - loss: 165.5195 - val_loss: 164.0892\n",
      "Epoch 35/100\n",
      " - 0s - loss: 164.0237 - val_loss: 165.2579\n",
      "Epoch 36/100\n",
      " - 0s - loss: 162.6183 - val_loss: 163.6346\n",
      "Epoch 37/100\n",
      " - 0s - loss: 161.1435 - val_loss: 164.4040\n",
      "Epoch 38/100\n",
      " - 0s - loss: 159.7473 - val_loss: 162.7810\n",
      "Epoch 39/100\n",
      " - 0s - loss: 158.2156 - val_loss: 162.5357\n",
      "Epoch 40/100\n",
      " - 0s - loss: 157.0524 - val_loss: 162.7259\n",
      "Epoch 41/100\n",
      " - 0s - loss: 155.5077 - val_loss: 162.7886\n",
      "Epoch 42/100\n",
      " - 0s - loss: 154.4259 - val_loss: 160.1686\n",
      "Epoch 43/100\n",
      " - 0s - loss: 152.9240 - val_loss: 162.5430\n",
      "Epoch 44/100\n",
      " - 0s - loss: 151.5418 - val_loss: 160.9343\n",
      "Epoch 45/100\n",
      " - 0s - loss: 150.0932 - val_loss: 159.4601\n",
      "Epoch 46/100\n",
      " - 0s - loss: 149.0819 - val_loss: 160.3561\n",
      "Epoch 47/100\n",
      " - 0s - loss: 148.1759 - val_loss: 157.8781\n",
      "Epoch 48/100\n",
      " - 0s - loss: 146.4544 - val_loss: 157.5414\n",
      "Epoch 49/100\n",
      " - 0s - loss: 145.2648 - val_loss: 159.0208\n",
      "Epoch 50/100\n",
      " - 0s - loss: 143.9022 - val_loss: 157.0636\n",
      "Epoch 51/100\n",
      " - 0s - loss: 142.6746 - val_loss: 155.4537\n",
      "Epoch 52/100\n",
      " - 0s - loss: 141.5899 - val_loss: 156.9267\n",
      "Epoch 53/100\n",
      " - 0s - loss: 139.9258 - val_loss: 156.3996\n",
      "Epoch 54/100\n",
      " - 0s - loss: 138.5909 - val_loss: 155.4750\n",
      "Epoch 55/100\n",
      " - 0s - loss: 137.3336 - val_loss: 154.4653\n",
      "Epoch 56/100\n",
      " - 0s - loss: 136.2660 - val_loss: 152.6412\n",
      "Epoch 57/100\n",
      " - 0s - loss: 134.9673 - val_loss: 152.8864\n",
      "Epoch 58/100\n",
      " - 0s - loss: 133.9498 - val_loss: 152.6374\n",
      "Epoch 59/100\n",
      " - 0s - loss: 132.7743 - val_loss: 151.1839\n",
      "Epoch 60/100\n",
      " - 0s - loss: 131.9229 - val_loss: 150.0945\n",
      "Epoch 61/100\n",
      " - 0s - loss: 131.6867 - val_loss: 150.5268\n",
      "Epoch 62/100\n",
      " - 0s - loss: 129.4213 - val_loss: 149.2224\n",
      "Epoch 63/100\n",
      " - 0s - loss: 129.3915 - val_loss: 149.9661\n",
      "Epoch 64/100\n",
      " - 0s - loss: 127.4898 - val_loss: 148.4904\n",
      "Epoch 65/100\n",
      " - 0s - loss: 126.8238 - val_loss: 147.6383\n",
      "Epoch 66/100\n",
      " - 0s - loss: 125.6126 - val_loss: 146.5962\n",
      "Epoch 67/100\n",
      " - 0s - loss: 124.7288 - val_loss: 145.7803\n",
      "Epoch 68/100\n",
      " - 0s - loss: 124.0179 - val_loss: 144.9347\n",
      "Epoch 69/100\n",
      " - 0s - loss: 122.7774 - val_loss: 146.9970\n",
      "Epoch 70/100\n",
      " - 0s - loss: 121.6899 - val_loss: 144.8967\n",
      "Epoch 71/100\n",
      " - 0s - loss: 121.0373 - val_loss: 145.0654\n",
      "Epoch 72/100\n",
      " - 0s - loss: 119.9433 - val_loss: 143.6053\n",
      "Epoch 73/100\n",
      " - 0s - loss: 119.1344 - val_loss: 141.5955\n",
      "Epoch 74/100\n",
      " - 0s - loss: 117.8293 - val_loss: 142.1524\n",
      "Epoch 75/100\n",
      " - 0s - loss: 116.6565 - val_loss: 142.5753\n",
      "Epoch 76/100\n",
      " - 0s - loss: 115.3868 - val_loss: 139.0090\n",
      "Epoch 77/100\n",
      " - 0s - loss: 114.5393 - val_loss: 140.2309\n",
      "Epoch 78/100\n",
      " - 0s - loss: 113.6502 - val_loss: 137.5807\n",
      "Epoch 79/100\n",
      " - 0s - loss: 112.1816 - val_loss: 137.1818\n",
      "Epoch 80/100\n",
      " - 0s - loss: 111.0129 - val_loss: 138.2390\n",
      "Epoch 81/100\n",
      " - 0s - loss: 110.3627 - val_loss: 137.4943\n",
      "Epoch 82/100\n",
      " - 0s - loss: 109.1844 - val_loss: 136.7699\n",
      "Epoch 83/100\n",
      " - 0s - loss: 107.8173 - val_loss: 133.7689\n",
      "Epoch 84/100\n",
      " - 0s - loss: 106.3755 - val_loss: 132.7766\n",
      "Epoch 85/100\n",
      " - 0s - loss: 105.2924 - val_loss: 133.0855\n",
      "Epoch 86/100\n",
      " - 0s - loss: 104.3459 - val_loss: 132.9975\n",
      "Epoch 87/100\n",
      " - 0s - loss: 102.5385 - val_loss: 128.8414\n",
      "Epoch 88/100\n",
      " - 0s - loss: 101.6065 - val_loss: 130.1691\n",
      "Epoch 89/100\n",
      " - 0s - loss: 100.3592 - val_loss: 129.0138\n",
      "Epoch 90/100\n",
      " - 0s - loss: 98.8322 - val_loss: 129.0372\n",
      "Epoch 91/100\n",
      " - 0s - loss: 97.6458 - val_loss: 127.8131\n",
      "Epoch 92/100\n",
      " - 0s - loss: 96.4359 - val_loss: 127.2030\n",
      "Epoch 93/100\n",
      " - 0s - loss: 95.3409 - val_loss: 126.9998\n",
      "Epoch 94/100\n",
      " - 0s - loss: 93.9891 - val_loss: 126.1784\n",
      "Epoch 95/100\n",
      " - 0s - loss: 92.5271 - val_loss: 124.1236\n",
      "Epoch 96/100\n",
      " - 0s - loss: 91.8242 - val_loss: 124.7765\n",
      "Epoch 97/100\n",
      " - 0s - loss: 90.3846 - val_loss: 122.6838\n",
      "Epoch 98/100\n",
      " - 0s - loss: 89.1620 - val_loss: 121.7756\n",
      "Epoch 99/100\n",
      " - 0s - loss: 87.9548 - val_loss: 121.6735\n",
      "Epoch 100/100\n",
      " - 0s - loss: 86.7007 - val_loss: 120.5321\n"
     ]
    },
    {
     "data": {
      "text/plain": [
       "<keras.callbacks.callbacks.History at 0x1a40dc40d0>"
      ]
     },
     "execution_count": 94,
     "metadata": {},
     "output_type": "execute_result"
    }
   ],
   "source": [
    "# Fit the model\n",
    "model.fit(x=predictors_norm, y=target, validation_split=0.3, epochs=100, verbose=2)"
   ]
  },
  {
   "cell_type": "markdown",
   "metadata": {},
   "source": [
    "**-> training MSE: 86, cross-val MSE: 120**"
   ]
  },
  {
   "cell_type": "code",
   "execution_count": 57,
   "metadata": {},
   "outputs": [
    {
     "data": {
      "text/plain": [
       "128.13775612964702"
      ]
     },
     "execution_count": 57,
     "metadata": {},
     "output_type": "execute_result"
    }
   ],
   "source": [
    "# Compare to standard linear regression with scikit-learn\n",
    "lm=sk_lm.LinearRegression()\n",
    "np.mean(-sk_msel.cross_val_score(lm, X=predictors_norm, y=target, cv=5, scoring='neg_mean_squared_error'))"
   ]
  },
  {
   "cell_type": "markdown",
   "metadata": {},
   "source": [
    "### Classification with Keras"
   ]
  },
  {
   "cell_type": "code",
   "execution_count": 32,
   "metadata": {},
   "outputs": [],
   "source": [
    "# Load Keras test data: Images of handwritten numbers\n",
    "\n",
    "(X_train, y_train), (X_test, y_test) = keras.datasets.mnist.load_data()"
   ]
  },
  {
   "cell_type": "code",
   "execution_count": 33,
   "metadata": {},
   "outputs": [
    {
     "data": {
      "text/plain": [
       "(60000, 28, 28)"
      ]
     },
     "execution_count": 33,
     "metadata": {},
     "output_type": "execute_result"
    }
   ],
   "source": [
    "X_train.shape"
   ]
  },
  {
   "cell_type": "markdown",
   "metadata": {},
   "source": [
    "-> Training dataset contains data for 60.000 images with 28x28 pixels"
   ]
  },
  {
   "cell_type": "code",
   "execution_count": 34,
   "metadata": {},
   "outputs": [
    {
     "data": {
      "text/plain": [
       "<matplotlib.image.AxesImage at 0x1a3c1ba990>"
      ]
     },
     "execution_count": 34,
     "metadata": {},
     "output_type": "execute_result"
    },
    {
     "data": {
      "image/png": "[encoded data removed]",
      "text/plain": [
       "<Figure size 72x72 with 1 Axes>"
      ]
     },
     "metadata": {
      "needs_background": "light"
     },
     "output_type": "display_data"
    }
   ],
   "source": [
    "# Visualize first image\n",
    "fig, ax = plt.subplots(figsize=(1, 1))\n",
    "ax.imshow(X_train[0], interpolation='nearest')"
   ]
  },
  {
   "cell_type": "code",
   "execution_count": 35,
   "metadata": {},
   "outputs": [],
   "source": [
    "# Flatten array of pixels, so that X becomes 2 dimensional\n",
    "num_pixels = X_train.shape[1] * X_train.shape[2]\n",
    "X_train = X_train.reshape(X_train.shape[0], num_pixels).astype('float')\n",
    "X_test = X_test.reshape(X_test.shape[0], num_pixels).astype('float')"
   ]
  },
  {
   "cell_type": "code",
   "execution_count": 36,
   "metadata": {},
   "outputs": [
    {
     "data": {
      "text/plain": [
       "dtype('float64')"
      ]
     },
     "execution_count": 36,
     "metadata": {},
     "output_type": "execute_result"
    }
   ],
   "source": [
    "X_train.dtype"
   ]
  },
  {
   "cell_type": "code",
   "execution_count": 37,
   "metadata": {},
   "outputs": [
    {
     "data": {
      "text/plain": [
       "array([[0., 0., 0., ..., 0., 0., 0.],\n",
       "       [0., 0., 0., ..., 0., 0., 0.],\n",
       "       [0., 0., 0., ..., 0., 0., 0.],\n",
       "       ...,\n",
       "       [0., 0., 0., ..., 0., 0., 0.],\n",
       "       [0., 0., 0., ..., 0., 0., 0.],\n",
       "       [0., 0., 0., ..., 0., 0., 0.]])"
      ]
     },
     "execution_count": 37,
     "metadata": {},
     "output_type": "execute_result"
    }
   ],
   "source": [
    "X_train"
   ]
  },
  {
   "cell_type": "code",
   "execution_count": 38,
   "metadata": {},
   "outputs": [
    {
     "data": {
      "text/plain": [
       "(60000, 784)"
      ]
     },
     "execution_count": 38,
     "metadata": {},
     "output_type": "execute_result"
    }
   ],
   "source": [
    "X_train.shape"
   ]
  },
  {
   "cell_type": "code",
   "execution_count": 39,
   "metadata": {},
   "outputs": [
    {
     "data": {
      "text/plain": [
       "array([5, 0, 4, ..., 5, 6, 8], dtype=uint8)"
      ]
     },
     "execution_count": 39,
     "metadata": {},
     "output_type": "execute_result"
    }
   ],
   "source": [
    "# Explore target \n",
    "y_train"
   ]
  },
  {
   "cell_type": "code",
   "execution_count": 40,
   "metadata": {},
   "outputs": [
    {
     "data": {
      "text/plain": [
       "array([[0., 0., 0., ..., 0., 0., 0.],\n",
       "       [1., 0., 0., ..., 0., 0., 0.],\n",
       "       [0., 0., 0., ..., 0., 0., 0.],\n",
       "       ...,\n",
       "       [0., 0., 0., ..., 0., 0., 0.],\n",
       "       [0., 0., 0., ..., 0., 0., 0.],\n",
       "       [0., 0., 0., ..., 0., 1., 0.]], dtype=float32)"
      ]
     },
     "execution_count": 40,
     "metadata": {},
     "output_type": "execute_result"
    }
   ],
   "source": [
    "# One hot encode target\n",
    "y_train_enc = keras.utils.to_categorical(y_train)\n",
    "y_test_enc = keras.utils.to_categorical(y_test)\n",
    "y_train_enc"
   ]
  },
  {
   "cell_type": "code",
   "execution_count": 41,
   "metadata": {},
   "outputs": [
    {
     "data": {
      "text/plain": [
       "(60000, 10)"
      ]
     },
     "execution_count": 41,
     "metadata": {},
     "output_type": "execute_result"
    }
   ],
   "source": [
    "y_train_enc.shape"
   ]
  },
  {
   "cell_type": "code",
   "execution_count": 43,
   "metadata": {},
   "outputs": [],
   "source": [
    "# create model\n",
    "model = keras.models.Sequential()\n",
    "model.add(keras.layers.Dense(num_pixels, activation='relu', input_shape=(num_pixels,)))\n",
    "model.add(keras.layers.Dense(100, activation='relu'))\n",
    "model.add(keras.layers.Dense(y_train_enc.shape[1], activation='softmax'))\n",
    "\n",
    "# compile model\n",
    "model.compile(optimizer='adam', loss='categorical_crossentropy', metrics=['accuracy'])"
   ]
  },
  {
   "cell_type": "code",
   "execution_count": 44,
   "metadata": {},
   "outputs": [
    {
     "data": {
      "text/plain": [
       "(10000, 784)"
      ]
     },
     "execution_count": 44,
     "metadata": {},
     "output_type": "execute_result"
    }
   ],
   "source": [
    "X_test.shape"
   ]
  },
  {
   "cell_type": "code",
   "execution_count": 29,
   "metadata": {},
   "outputs": [
    {
     "name": "stdout",
     "output_type": "stream",
     "text": [
      "Train on 60000 samples, validate on 10000 samples\n",
      "Epoch 1/10\n",
      " - 26s - loss: 1.0730 - accuracy: 0.8064 - val_loss: 0.3632 - val_accuracy: 0.9036\n",
      "Epoch 2/10\n",
      " - 29s - loss: 0.2902 - accuracy: 0.9261 - val_loss: 0.2283 - val_accuracy: 0.9482\n",
      "Epoch 3/10\n",
      " - 24s - loss: 0.1709 - accuracy: 0.9554 - val_loss: 0.1669 - val_accuracy: 0.9582\n",
      "Epoch 4/10\n",
      " - 23s - loss: 0.1482 - accuracy: 0.9605 - val_loss: 0.2101 - val_accuracy: 0.9481\n",
      "Epoch 5/10\n",
      " - 26s - loss: 0.1216 - accuracy: 0.9674 - val_loss: 0.2122 - val_accuracy: 0.9595\n",
      "Epoch 6/10\n",
      " - 25s - loss: 0.1152 - accuracy: 0.9707 - val_loss: 0.1589 - val_accuracy: 0.9618\n",
      "Epoch 7/10\n",
      " - 25s - loss: 0.0984 - accuracy: 0.9745 - val_loss: 0.1492 - val_accuracy: 0.9612\n",
      "Epoch 8/10\n",
      " - 26s - loss: 0.0973 - accuracy: 0.9754 - val_loss: 0.1656 - val_accuracy: 0.9635\n",
      "Epoch 9/10\n",
      " - 23s - loss: 0.0846 - accuracy: 0.9791 - val_loss: 0.1510 - val_accuracy: 0.9703\n",
      "Epoch 10/10\n",
      " - 23s - loss: 0.0830 - accuracy: 0.9800 - val_loss: 0.2009 - val_accuracy: 0.9596\n"
     ]
    }
   ],
   "source": [
    "# fit the model\n",
    "model.fit(X_train, y_train, validation_data=(X_test, y_test), epochs=10, verbose=2)\n",
    "\n",
    "# evaluate the model\n",
    "scores = model.evaluate(X_test, y_test, verbose=0)"
   ]
  },
  {
   "cell_type": "code",
   "execution_count": 45,
   "metadata": {},
   "outputs": [],
   "source": [
    "# Compare with Linear Discriminant Analysis (sklearn)\n",
    "lda=sk_lda.LinearDiscriminantAnalysis().fit(X_train, y_train)"
   ]
  },
  {
   "cell_type": "code",
   "execution_count": 49,
   "metadata": {},
   "outputs": [
    {
     "data": {
      "text/plain": [
       "0.873"
      ]
     },
     "execution_count": 49,
     "metadata": {},
     "output_type": "execute_result"
    }
   ],
   "source": [
    "# LDA Accuracy\n",
    "y_pre=lda.predict(X_test)\n",
    "sk_metrics.accuracy_score(y_test, y_pre)"
   ]
  },
  {
   "cell_type": "markdown",
   "metadata": {},
   "source": [
    "### Image Classification revisted - with convolutional neural network"
   ]
  },
  {
   "cell_type": "code",
   "execution_count": 52,
   "metadata": {},
   "outputs": [],
   "source": [
    "# load data\n",
    "(X_train, y_train), (X_test, y_test) = keras.datasets.mnist.load_data()\n",
    "\n",
    "# reshape to be [samples][pixels][width][height]\n",
    "X_train = X_train.reshape(X_train.shape[0], 28, 28, 1).astype('float32')\n",
    "X_test = X_test.reshape(X_test.shape[0], 28, 28, 1).astype('float32')"
   ]
  },
  {
   "cell_type": "code",
   "execution_count": 53,
   "metadata": {},
   "outputs": [],
   "source": [
    "X_train = X_train / 255 # normalize training data\n",
    "X_test = X_test / 255 # normalize test data"
   ]
  },
  {
   "cell_type": "code",
   "execution_count": 54,
   "metadata": {},
   "outputs": [
    {
     "data": {
      "text/plain": [
       "(60000, 28, 28, 1)"
      ]
     },
     "execution_count": 54,
     "metadata": {},
     "output_type": "execute_result"
    }
   ],
   "source": [
    "X_train.shape"
   ]
  },
  {
   "cell_type": "code",
   "execution_count": 55,
   "metadata": {},
   "outputs": [
    {
     "data": {
      "text/plain": [
       "10"
      ]
     },
     "execution_count": 55,
     "metadata": {},
     "output_type": "execute_result"
    }
   ],
   "source": [
    "y_train = keras.utils.to_categorical(y_train)\n",
    "y_test = keras.utils.to_categorical(y_test)\n",
    "\n",
    "num_classes = y_test.shape[1] # number of categories\n",
    "num_classes"
   ]
  },
  {
   "cell_type": "code",
   "execution_count": 56,
   "metadata": {},
   "outputs": [],
   "source": [
    "# Use same data as above\n",
    "\n",
    "# create convolutional model\n",
    "model = keras.models.Sequential()\n",
    "model.add(keras.layers.Conv2D(16, (5, 5), activation='relu', input_shape=(28, 28, 1)))\n",
    "model.add(keras.layers.MaxPooling2D(pool_size=(2, 2), strides=(2, 2)))\n",
    "\n",
    "model.add(keras.layers.Conv2D(8, (2, 2), activation='relu'))\n",
    "model.add(keras.layers.MaxPooling2D(pool_size=(2, 2), strides=(2, 2)))\n",
    "\n",
    "model.add(keras.layers.Flatten())\n",
    "model.add(keras.layers.Dense(100, activation='relu'))\n",
    "model.add(keras.layers.Dense(num_classes, activation='softmax'))\n",
    "\n",
    "# Compile model\n",
    "model.compile(optimizer='adam', loss='categorical_crossentropy',  metrics=['accuracy'])"
   ]
  },
  {
   "cell_type": "code",
   "execution_count": 57,
   "metadata": {},
   "outputs": [
    {
     "name": "stdout",
     "output_type": "stream",
     "text": [
      "Train on 60000 samples, validate on 10000 samples\n",
      "Epoch 1/10\n",
      " - 25s - loss: 0.4764 - accuracy: 0.8659 - val_loss: 0.1318 - val_accuracy: 0.9609\n",
      "Epoch 2/10\n",
      " - 23s - loss: 0.1108 - accuracy: 0.9673 - val_loss: 0.0891 - val_accuracy: 0.9736\n",
      "Epoch 3/10\n",
      " - 23s - loss: 0.0834 - accuracy: 0.9753 - val_loss: 0.0721 - val_accuracy: 0.9763\n",
      "Epoch 4/10\n",
      " - 23s - loss: 0.0690 - accuracy: 0.9795 - val_loss: 0.0572 - val_accuracy: 0.9811\n",
      "Epoch 5/10\n",
      " - 22s - loss: 0.0592 - accuracy: 0.9822 - val_loss: 0.0568 - val_accuracy: 0.9808\n",
      "Epoch 6/10\n",
      " - 23s - loss: 0.0522 - accuracy: 0.9847 - val_loss: 0.0477 - val_accuracy: 0.9844\n",
      "Epoch 7/10\n",
      " - 22s - loss: 0.0468 - accuracy: 0.9859 - val_loss: 0.0394 - val_accuracy: 0.9877\n",
      "Epoch 8/10\n",
      " - 21s - loss: 0.0423 - accuracy: 0.9872 - val_loss: 0.0398 - val_accuracy: 0.9868\n",
      "Epoch 9/10\n",
      " - 19s - loss: 0.0390 - accuracy: 0.9884 - val_loss: 0.0389 - val_accuracy: 0.9869\n",
      "Epoch 10/10\n",
      " - 23s - loss: 0.0369 - accuracy: 0.9888 - val_loss: 0.0372 - val_accuracy: 0.9876\n"
     ]
    },
    {
     "data": {
      "text/plain": [
       "<keras.callbacks.callbacks.History at 0x1a3d009050>"
      ]
     },
     "execution_count": 57,
     "metadata": {},
     "output_type": "execute_result"
    }
   ],
   "source": [
    "# fit the model\n",
    "model.fit(X_train, y_train, validation_data=(X_test, y_test), epochs=10, batch_size=200, verbose=2)"
   ]
  },
  {
   "cell_type": "code",
   "execution_count": null,
   "metadata": {},
   "outputs": [],
   "source": []
  }
 ],
 "metadata": {
  "kernelspec": {
   "display_name": "Python 3",
   "language": "python",
   "name": "python3"
  },
  "language_info": {
   "codemirror_mode": {
    "name": "ipython",
    "version": 3
   },
   "file_extension": ".py",
   "mimetype": "text/x-python",
   "name": "python",
   "nbconvert_exporter": "python",
   "pygments_lexer": "ipython3",
   "version": "3.7.6"
  }
 },
 "nbformat": 4,
 "nbformat_minor": 4
}
