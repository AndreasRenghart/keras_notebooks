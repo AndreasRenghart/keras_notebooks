{
 "cells": [
  {
   "cell_type": "markdown",
   "metadata": {},
   "source": [
    "# Convolutional Neural Networks Example"
   ]
  },
  {
   "cell_type": "code",
   "execution_count": 105,
   "metadata": {},
   "outputs": [],
   "source": [
    "import numpy as np\n",
    "import pandas as pd\n",
    "import matplotlib.pyplot as plt\n",
    "import keras\n",
    "import seaborn as sns"
   ]
  },
  {
   "cell_type": "markdown",
   "metadata": {},
   "source": [
    "### Example: Images of fashion objects"
   ]
  },
  {
   "cell_type": "code",
   "execution_count": 88,
   "metadata": {},
   "outputs": [],
   "source": [
    "# 60.000 training images, 10.000 test images, black-white 28x28\n",
    "(X_train, y_train), (X_test, y_test) = keras.datasets.fashion_mnist.load_data()"
   ]
  },
  {
   "cell_type": "markdown",
   "metadata": {},
   "source": [
    "### Data Prep"
   ]
  },
  {
   "cell_type": "code",
   "execution_count": 89,
   "metadata": {},
   "outputs": [
    {
     "data": {
      "text/plain": [
       "(60000, 10000)"
      ]
     },
     "execution_count": 89,
     "metadata": {},
     "output_type": "execute_result"
    }
   ],
   "source": [
    "# Training and test dataset sizes\n",
    "train_size=X_train.shape[0]\n",
    "test_size=X_test.shape[0]\n",
    "(train_size, test_size)"
   ]
  },
  {
   "cell_type": "code",
   "execution_count": 90,
   "metadata": {},
   "outputs": [
    {
     "data": {
      "text/plain": [
       "<matplotlib.image.AxesImage at 0x649627ed0>"
      ]
     },
     "execution_count": 90,
     "metadata": {},
     "output_type": "execute_result"
    },
    {
     "data": {
      "image/png": "[encoded data removed]",
      "text/plain": [
       "<Figure size 72x72 with 1 Axes>"
      ]
     },
     "metadata": {
      "needs_background": "light"
     },
     "output_type": "display_data"
    }
   ],
   "source": [
    "# Visualize first image\n",
    "fig, ax = plt.subplots(figsize=(1, 1))\n",
    "ax.imshow(X_train[0], interpolation='nearest', cmap='gray')"
   ]
  },
  {
   "cell_type": "code",
   "execution_count": 91,
   "metadata": {},
   "outputs": [
    {
     "data": {
      "text/plain": [
       "10"
      ]
     },
     "execution_count": 91,
     "metadata": {},
     "output_type": "execute_result"
    }
   ],
   "source": [
    "# Number of fashion categories\n",
    "num_categories=np.unique(y_train).size\n",
    "num_categories"
   ]
  },
  {
   "cell_type": "code",
   "execution_count": 92,
   "metadata": {},
   "outputs": [],
   "source": [
    "# One-hot encoding of categories\n",
    "y_train=keras.utils.to_categorical(y_train, num_classes=num_categories)\n",
    "y_test=keras.utils.to_categorical(y_test, num_classes=num_categories)"
   ]
  },
  {
   "cell_type": "code",
   "execution_count": 93,
   "metadata": {},
   "outputs": [
    {
     "data": {
      "text/plain": [
       "array([[0., 0., 0., ..., 0., 0., 1.],\n",
       "       [1., 0., 0., ..., 0., 0., 0.],\n",
       "       [1., 0., 0., ..., 0., 0., 0.],\n",
       "       ...,\n",
       "       [0., 0., 0., ..., 0., 0., 0.],\n",
       "       [1., 0., 0., ..., 0., 0., 0.],\n",
       "       [0., 0., 0., ..., 0., 0., 0.]], dtype=float32)"
      ]
     },
     "execution_count": 93,
     "metadata": {},
     "output_type": "execute_result"
    }
   ],
   "source": [
    "y_train"
   ]
  },
  {
   "cell_type": "code",
   "execution_count": 94,
   "metadata": {},
   "outputs": [],
   "source": [
    "# Reshape images to 28x28x1 (1 = channel -> grayscale)\n",
    "X_train=X_train.reshape(train_size, 28, 28, 1)\n",
    "X_test=X_test.reshape(test_size, 28, 28, 1)"
   ]
  },
  {
   "cell_type": "code",
   "execution_count": 95,
   "metadata": {},
   "outputs": [],
   "source": [
    "# Scale pixel values to 0...1 range\n",
    "X_train=X_train/255\n",
    "X_test=X_test/255"
   ]
  },
  {
   "cell_type": "markdown",
   "metadata": {},
   "source": [
    "### Build model"
   ]
  },
  {
   "cell_type": "code",
   "execution_count": 96,
   "metadata": {},
   "outputs": [],
   "source": [
    "# Define model steps\n",
    "model=keras.Sequential()\n",
    "model.add(keras.layers.Conv2D(filters=32, kernel_size=(3,3), activation='relu', input_shape=X_train.shape[1:]))\n",
    "model.add(keras.layers.MaxPool2D())\n",
    "model.add(keras.layers.Conv2D(filters=32, kernel_size=(3,3), activation='relu'))\n",
    "model.add(keras.layers.MaxPool2D())\n",
    "model.add(keras.layers.Flatten())\n",
    "model.add(keras.layers.Dense(128, activation='relu'))\n",
    "model.add(keras.layers.Dropout(0.5))\n",
    "model.add(keras.layers.Dense(num_categories, activation='softmax'))"
   ]
  },
  {
   "cell_type": "code",
   "execution_count": 97,
   "metadata": {},
   "outputs": [],
   "source": [
    "# Compile the model\n",
    "model.compile(optimizer=keras.optimizers.Adadelta(), loss=keras.losses.categorical_crossentropy, metrics=['accuracy'])"
   ]
  },
  {
   "cell_type": "code",
   "execution_count": 98,
   "metadata": {},
   "outputs": [
    {
     "name": "stdout",
     "output_type": "stream",
     "text": [
      "Train on 60000 samples, validate on 10000 samples\n",
      "Epoch 1/25\n",
      "60000/60000 [==============================] - 57s 953us/step - loss: 0.6954 - accuracy: 0.7455 - val_loss: 0.4533 - val_accuracy: 0.8314\n",
      "Epoch 2/25\n",
      "60000/60000 [==============================] - 55s 918us/step - loss: 0.4495 - accuracy: 0.8383 - val_loss: 0.3832 - val_accuracy: 0.8601\n",
      "Epoch 3/25\n",
      "60000/60000 [==============================] - 57s 942us/step - loss: 0.3882 - accuracy: 0.8622 - val_loss: 0.3451 - val_accuracy: 0.8763\n",
      "Epoch 4/25\n",
      "60000/60000 [==============================] - 59s 988us/step - loss: 0.3529 - accuracy: 0.8737 - val_loss: 0.3284 - val_accuracy: 0.8816\n",
      "Epoch 5/25\n",
      "60000/60000 [==============================] - 55s 911us/step - loss: 0.3309 - accuracy: 0.8813 - val_loss: 0.3079 - val_accuracy: 0.8904\n",
      "Epoch 6/25\n",
      "60000/60000 [==============================] - 48s 803us/step - loss: 0.3121 - accuracy: 0.8888 - val_loss: 0.2955 - val_accuracy: 0.8932\n",
      "Epoch 7/25\n",
      "60000/60000 [==============================] - 43s 715us/step - loss: 0.2964 - accuracy: 0.8935 - val_loss: 0.2846 - val_accuracy: 0.9000\n",
      "Epoch 8/25\n",
      "60000/60000 [==============================] - 52s 871us/step - loss: 0.2843 - accuracy: 0.8973 - val_loss: 0.2770 - val_accuracy: 0.9004\n",
      "Epoch 9/25\n",
      "60000/60000 [==============================] - 60s 1ms/step - loss: 0.2719 - accuracy: 0.9014 - val_loss: 0.2793 - val_accuracy: 0.9006\n",
      "Epoch 10/25\n",
      "60000/60000 [==============================] - 59s 985us/step - loss: 0.2635 - accuracy: 0.9051 - val_loss: 0.2753 - val_accuracy: 0.9027\n",
      "Epoch 11/25\n",
      "60000/60000 [==============================] - 60s 1ms/step - loss: 0.2532 - accuracy: 0.9076 - val_loss: 0.2695 - val_accuracy: 0.9025\n",
      "Epoch 12/25\n",
      "60000/60000 [==============================] - 60s 994us/step - loss: 0.2461 - accuracy: 0.9111 - val_loss: 0.2682 - val_accuracy: 0.9030\n",
      "Epoch 13/25\n",
      "60000/60000 [==============================] - 61s 1ms/step - loss: 0.2381 - accuracy: 0.9117 - val_loss: 0.2623 - val_accuracy: 0.9092\n",
      "Epoch 14/25\n",
      "60000/60000 [==============================] - 61s 1ms/step - loss: 0.2321 - accuracy: 0.9149 - val_loss: 0.2661 - val_accuracy: 0.9051\n",
      "Epoch 15/25\n",
      "60000/60000 [==============================] - 63s 1ms/step - loss: 0.2242 - accuracy: 0.9175 - val_loss: 0.2555 - val_accuracy: 0.9090\n",
      "Epoch 16/25\n",
      "60000/60000 [==============================] - 61s 1ms/step - loss: 0.2195 - accuracy: 0.9200 - val_loss: 0.2555 - val_accuracy: 0.9081\n",
      "Epoch 17/25\n",
      "60000/60000 [==============================] - 65s 1ms/step - loss: 0.2129 - accuracy: 0.9223 - val_loss: 0.2576 - val_accuracy: 0.9102\n",
      "Epoch 18/25\n",
      "60000/60000 [==============================] - 53s 875us/step - loss: 0.2090 - accuracy: 0.9230 - val_loss: 0.2565 - val_accuracy: 0.9108\n",
      "Epoch 19/25\n",
      "60000/60000 [==============================] - 46s 759us/step - loss: 0.2052 - accuracy: 0.9245 - val_loss: 0.2490 - val_accuracy: 0.9104\n",
      "Epoch 20/25\n",
      "60000/60000 [==============================] - 51s 852us/step - loss: 0.2006 - accuracy: 0.9266 - val_loss: 0.2478 - val_accuracy: 0.9116\n",
      "Epoch 21/25\n",
      "60000/60000 [==============================] - 47s 787us/step - loss: 0.1966 - accuracy: 0.9285 - val_loss: 0.2555 - val_accuracy: 0.9118\n",
      "Epoch 22/25\n",
      "60000/60000 [==============================] - 49s 823us/step - loss: 0.1919 - accuracy: 0.9294 - val_loss: 0.2629 - val_accuracy: 0.9092\n",
      "Epoch 23/25\n",
      "60000/60000 [==============================] - 47s 789us/step - loss: 0.1887 - accuracy: 0.9301 - val_loss: 0.2536 - val_accuracy: 0.9140\n",
      "Epoch 24/25\n",
      "60000/60000 [==============================] - 47s 790us/step - loss: 0.1846 - accuracy: 0.9327 - val_loss: 0.2587 - val_accuracy: 0.9116\n",
      "Epoch 25/25\n",
      "60000/60000 [==============================] - 48s 792us/step - loss: 0.1802 - accuracy: 0.9338 - val_loss: 0.2798 - val_accuracy: 0.8991\n"
     ]
    }
   ],
   "source": [
    "# Fit the model\n",
    "hist=model.fit(X_train, y_train, batch_size=125, epochs=25, verbose=1, validation_data=(X_test, y_test))"
   ]
  },
  {
   "cell_type": "code",
   "execution_count": 145,
   "metadata": {},
   "outputs": [
    {
     "data": {
      "text/html": [
       "<div>\n",
       "<style scoped>\n",
       "    .dataframe tbody tr th:only-of-type {\n",
       "        vertical-align: middle;\n",
       "    }\n",
       "\n",
       "    .dataframe tbody tr th {\n",
       "        vertical-align: top;\n",
       "    }\n",
       "\n",
       "    .dataframe thead th {\n",
       "        text-align: right;\n",
       "    }\n",
       "</style>\n",
       "<table border=\"1\" class=\"dataframe\">\n",
       "  <thead>\n",
       "    <tr style=\"text-align: right;\">\n",
       "      <th></th>\n",
       "      <th>val_loss</th>\n",
       "      <th>val_accuracy</th>\n",
       "      <th>loss</th>\n",
       "      <th>accuracy</th>\n",
       "    </tr>\n",
       "  </thead>\n",
       "  <tbody>\n",
       "    <tr>\n",
       "      <th>1</th>\n",
       "      <td>0.453305</td>\n",
       "      <td>0.8314</td>\n",
       "      <td>0.695403</td>\n",
       "      <td>0.745550</td>\n",
       "    </tr>\n",
       "    <tr>\n",
       "      <th>2</th>\n",
       "      <td>0.383199</td>\n",
       "      <td>0.8601</td>\n",
       "      <td>0.449459</td>\n",
       "      <td>0.838283</td>\n",
       "    </tr>\n",
       "    <tr>\n",
       "      <th>3</th>\n",
       "      <td>0.345052</td>\n",
       "      <td>0.8763</td>\n",
       "      <td>0.388184</td>\n",
       "      <td>0.862150</td>\n",
       "    </tr>\n",
       "    <tr>\n",
       "      <th>4</th>\n",
       "      <td>0.328354</td>\n",
       "      <td>0.8816</td>\n",
       "      <td>0.352874</td>\n",
       "      <td>0.873667</td>\n",
       "    </tr>\n",
       "    <tr>\n",
       "      <th>5</th>\n",
       "      <td>0.307884</td>\n",
       "      <td>0.8904</td>\n",
       "      <td>0.330882</td>\n",
       "      <td>0.881350</td>\n",
       "    </tr>\n",
       "    <tr>\n",
       "      <th>6</th>\n",
       "      <td>0.295508</td>\n",
       "      <td>0.8932</td>\n",
       "      <td>0.312138</td>\n",
       "      <td>0.888833</td>\n",
       "    </tr>\n",
       "    <tr>\n",
       "      <th>7</th>\n",
       "      <td>0.284593</td>\n",
       "      <td>0.9000</td>\n",
       "      <td>0.296376</td>\n",
       "      <td>0.893500</td>\n",
       "    </tr>\n",
       "    <tr>\n",
       "      <th>8</th>\n",
       "      <td>0.276955</td>\n",
       "      <td>0.9004</td>\n",
       "      <td>0.284286</td>\n",
       "      <td>0.897283</td>\n",
       "    </tr>\n",
       "    <tr>\n",
       "      <th>9</th>\n",
       "      <td>0.279322</td>\n",
       "      <td>0.9006</td>\n",
       "      <td>0.271938</td>\n",
       "      <td>0.901367</td>\n",
       "    </tr>\n",
       "    <tr>\n",
       "      <th>10</th>\n",
       "      <td>0.275345</td>\n",
       "      <td>0.9027</td>\n",
       "      <td>0.263514</td>\n",
       "      <td>0.905133</td>\n",
       "    </tr>\n",
       "    <tr>\n",
       "      <th>11</th>\n",
       "      <td>0.269527</td>\n",
       "      <td>0.9025</td>\n",
       "      <td>0.253214</td>\n",
       "      <td>0.907583</td>\n",
       "    </tr>\n",
       "    <tr>\n",
       "      <th>12</th>\n",
       "      <td>0.268200</td>\n",
       "      <td>0.9030</td>\n",
       "      <td>0.246058</td>\n",
       "      <td>0.911067</td>\n",
       "    </tr>\n",
       "    <tr>\n",
       "      <th>13</th>\n",
       "      <td>0.262293</td>\n",
       "      <td>0.9092</td>\n",
       "      <td>0.238098</td>\n",
       "      <td>0.911717</td>\n",
       "    </tr>\n",
       "    <tr>\n",
       "      <th>14</th>\n",
       "      <td>0.266114</td>\n",
       "      <td>0.9051</td>\n",
       "      <td>0.232066</td>\n",
       "      <td>0.914867</td>\n",
       "    </tr>\n",
       "    <tr>\n",
       "      <th>15</th>\n",
       "      <td>0.255455</td>\n",
       "      <td>0.9090</td>\n",
       "      <td>0.224242</td>\n",
       "      <td>0.917450</td>\n",
       "    </tr>\n",
       "    <tr>\n",
       "      <th>16</th>\n",
       "      <td>0.255488</td>\n",
       "      <td>0.9081</td>\n",
       "      <td>0.219533</td>\n",
       "      <td>0.919983</td>\n",
       "    </tr>\n",
       "    <tr>\n",
       "      <th>17</th>\n",
       "      <td>0.257557</td>\n",
       "      <td>0.9102</td>\n",
       "      <td>0.212861</td>\n",
       "      <td>0.922333</td>\n",
       "    </tr>\n",
       "    <tr>\n",
       "      <th>18</th>\n",
       "      <td>0.256451</td>\n",
       "      <td>0.9108</td>\n",
       "      <td>0.209027</td>\n",
       "      <td>0.923000</td>\n",
       "    </tr>\n",
       "    <tr>\n",
       "      <th>19</th>\n",
       "      <td>0.248955</td>\n",
       "      <td>0.9104</td>\n",
       "      <td>0.205159</td>\n",
       "      <td>0.924550</td>\n",
       "    </tr>\n",
       "    <tr>\n",
       "      <th>20</th>\n",
       "      <td>0.247847</td>\n",
       "      <td>0.9116</td>\n",
       "      <td>0.200600</td>\n",
       "      <td>0.926633</td>\n",
       "    </tr>\n",
       "    <tr>\n",
       "      <th>21</th>\n",
       "      <td>0.255506</td>\n",
       "      <td>0.9118</td>\n",
       "      <td>0.196586</td>\n",
       "      <td>0.928500</td>\n",
       "    </tr>\n",
       "    <tr>\n",
       "      <th>22</th>\n",
       "      <td>0.262942</td>\n",
       "      <td>0.9092</td>\n",
       "      <td>0.191850</td>\n",
       "      <td>0.929417</td>\n",
       "    </tr>\n",
       "    <tr>\n",
       "      <th>23</th>\n",
       "      <td>0.253650</td>\n",
       "      <td>0.9140</td>\n",
       "      <td>0.188660</td>\n",
       "      <td>0.930050</td>\n",
       "    </tr>\n",
       "    <tr>\n",
       "      <th>24</th>\n",
       "      <td>0.258723</td>\n",
       "      <td>0.9116</td>\n",
       "      <td>0.184591</td>\n",
       "      <td>0.932750</td>\n",
       "    </tr>\n",
       "    <tr>\n",
       "      <th>25</th>\n",
       "      <td>0.279759</td>\n",
       "      <td>0.8991</td>\n",
       "      <td>0.180212</td>\n",
       "      <td>0.933833</td>\n",
       "    </tr>\n",
       "  </tbody>\n",
       "</table>\n",
       "</div>"
      ],
      "text/plain": [
       "    val_loss  val_accuracy      loss  accuracy\n",
       "1   0.453305        0.8314  0.695403  0.745550\n",
       "2   0.383199        0.8601  0.449459  0.838283\n",
       "3   0.345052        0.8763  0.388184  0.862150\n",
       "4   0.328354        0.8816  0.352874  0.873667\n",
       "5   0.307884        0.8904  0.330882  0.881350\n",
       "6   0.295508        0.8932  0.312138  0.888833\n",
       "7   0.284593        0.9000  0.296376  0.893500\n",
       "8   0.276955        0.9004  0.284286  0.897283\n",
       "9   0.279322        0.9006  0.271938  0.901367\n",
       "10  0.275345        0.9027  0.263514  0.905133\n",
       "11  0.269527        0.9025  0.253214  0.907583\n",
       "12  0.268200        0.9030  0.246058  0.911067\n",
       "13  0.262293        0.9092  0.238098  0.911717\n",
       "14  0.266114        0.9051  0.232066  0.914867\n",
       "15  0.255455        0.9090  0.224242  0.917450\n",
       "16  0.255488        0.9081  0.219533  0.919983\n",
       "17  0.257557        0.9102  0.212861  0.922333\n",
       "18  0.256451        0.9108  0.209027  0.923000\n",
       "19  0.248955        0.9104  0.205159  0.924550\n",
       "20  0.247847        0.9116  0.200600  0.926633\n",
       "21  0.255506        0.9118  0.196586  0.928500\n",
       "22  0.262942        0.9092  0.191850  0.929417\n",
       "23  0.253650        0.9140  0.188660  0.930050\n",
       "24  0.258723        0.9116  0.184591  0.932750\n",
       "25  0.279759        0.8991  0.180212  0.933833"
      ]
     },
     "execution_count": 145,
     "metadata": {},
     "output_type": "execute_result"
    }
   ],
   "source": [
    "# Store result metrics in a dataframe\n",
    "df_metrics=pd.DataFrame(hist.history, index=range(1,26))\n",
    "df_metrics"
   ]
  },
  {
   "cell_type": "code",
   "execution_count": 146,
   "metadata": {},
   "outputs": [
    {
     "data": {
      "text/plain": [
       "<matplotlib.axes._subplots.AxesSubplot at 0x646dbce10>"
      ]
     },
     "execution_count": 146,
     "metadata": {},
     "output_type": "execute_result"
    },
    {
     "data": {
      "image/png": "[encoded data removed]",
      "text/plain": [
       "<Figure size 720x576 with 1 Axes>"
      ]
     },
     "metadata": {
      "needs_background": "light"
     },
     "output_type": "display_data"
    }
   ],
   "source": [
    "df_plot=df_metrics.rename(\n",
    "        columns={'accuracy': 'Training Accuracy', 'val_accuracy': 'Test Accuracy'}\n",
    "    )[['Training Accuracy', 'Test Accuracy']]\n",
    "fig, ax = plt.subplots(figsize=(10, 8))\n",
    "sns.lineplot(data=df_plot, ax=ax)"
   ]
  },
  {
   "cell_type": "code",
   "execution_count": null,
   "metadata": {},
   "outputs": [],
   "source": []
  },
  {
   "cell_type": "code",
   "execution_count": null,
   "metadata": {},
   "outputs": [],
   "source": []
  }
 ],
 "metadata": {
  "kernelspec": {
   "display_name": "Python 3",
   "language": "python",
   "name": "python3"
  },
  "language_info": {
   "codemirror_mode": {
    "name": "ipython",
    "version": 3
   },
   "file_extension": ".py",
   "mimetype": "text/x-python",
   "name": "python",
   "nbconvert_exporter": "python",
   "pygments_lexer": "ipython3",
   "version": "3.7.6"
  }
 },
 "nbformat": 4,
 "nbformat_minor": 4
}
